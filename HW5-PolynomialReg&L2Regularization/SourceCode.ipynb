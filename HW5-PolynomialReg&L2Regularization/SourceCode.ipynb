{
 "cells": [
  {
   "cell_type": "markdown",
   "metadata": {},
   "source": [
    "## ECEN 689: HW 5\n",
    "\n",
    "### Submission by: Flavia Ratto (130004853)"
   ]
  },
  {
   "cell_type": "code",
   "execution_count": 1,
   "metadata": {},
   "outputs": [],
   "source": [
    "import numpy as np\n",
    "import math\n",
    "import matplotlib.pyplot as plt"
   ]
  },
  {
   "cell_type": "markdown",
   "metadata": {},
   "source": [
    "###### Q1) Polynomial Regression"
   ]
  },
  {
   "cell_type": "code",
   "execution_count": 7,
   "metadata": {},
   "outputs": [],
   "source": [
    "def best_fit_polyreg(m,t,n):\n",
    "    #m --> Number of training samples\n",
    "    #t --> Numbver of testing samples\n",
    "    #n --> Max Degree of polynomial\n",
    "    \n",
    "    np.random.seed(100)\n",
    "    sd = math.sqrt(0.01)\n",
    "    \n",
    "    #Training Data\n",
    "    x_tr = np.random.uniform(0,1,size=(m,1)) #Generate Xi Train\n",
    "    w_tr = np.random.normal(0,sd,size=(m,1))  #Generate noise Train\n",
    "    y_tr = []   #Calculate Yi Train\n",
    "\n",
    "    for i,j in zip(x_tr,w_tr):\n",
    "        hTrue_x = math.cos(2*np.pi*i)\n",
    "        y_tr.append(hTrue_x + j)\n",
    "    y1 = np.array(y_tr)    \n",
    "   \n",
    "    x_train = np.zeros((m,n+1))\n",
    "    #x_train[:,0] = 1\n",
    "    for i in range(n+1):\n",
    "        x_train[:,i] = np.power(x_tr,i).reshape((m,))\n",
    "    x_train_t = x_train.transpose()\n",
    "\n",
    "    #Generate Testing data\n",
    "    x_tes = np.random.uniform(0,1,size=(t,1)) #Generate Xi Test\n",
    "    w_tes = np.random.normal(0,sd,size=(t,1))  #Generate noise Test\n",
    "    y_tes = []   #Calculate Yi Test\n",
    "    \n",
    "    for i,j in zip(x_tes,w_tes):\n",
    "        hTrue_x = math.cos(2*(np.pi)*i)\n",
    "        y_tes.append(hTrue_x + j)    \n",
    "    y2 = np.array(y_tes)    \n",
    "     \n",
    "    x_test = np.zeros((t,n+1))\n",
    "    #x_test[:,0] = 1\n",
    "    for i in range(n+1):\n",
    "        x_test[:,i] = np.power(x_tes,i).reshape((t,))\n",
    "    x_test_t = x_test.transpose()\n",
    "    \n",
    "    min_error_tr=[]\n",
    "    min_error_tes = []\n",
    "        \n",
    "    for i in range(n+1):    \n",
    "        train_x = x_train[:,:i+1]\n",
    "        train_x_t = train_x.transpose()\n",
    "        test_x = x_test[:,:i+1]\n",
    "        test_x_t = test_x.transpose()\n",
    "        \n",
    "        A = np.matmul(train_x_t, train_x)\n",
    "        inv_A = np.linalg.inv(A)\n",
    "        B = np.matmul(train_x_t,y1)\n",
    "        w = np.matmul(inv_A,B)\n",
    "        \n",
    "        y_tr_pred = np.matmul(train_x,w)\n",
    "        y_pred = np.matmul(test_x,w)\n",
    "        \n",
    "        #Calculating minimum Training error and Testing error\n",
    "        f = np.sum(np.square(y1 - y_tr_pred))/m\n",
    "        min_error_tr.append(f)\n",
    "              \n",
    "        k = np.sum(np.square(y2 - y_pred))/t\n",
    "        min_error_tes.append(k)    \n",
    "        \n",
    "    #print(min_error_tr)\n",
    "    #print(min_error_tes)\n",
    "    \n",
    "    #Plotting\n",
    "    plt.figure()\n",
    "    plt.subplot(211)\n",
    "    plt.plot(range(n+1), min_error_tr, '-o')\n",
    "    plt.xlabel('Degree of polynomial')\n",
    "    plt.ylabel('Training Error')\n",
    "    \n",
    "    plt.subplot(212)\n",
    "    plt.plot(range(n+1), min_error_tes, '-o')\n",
    "    plt.xlabel('Degree of polynomial')\n",
    "    plt.ylabel('Test Error')\n",
    "    \n",
    "    #Finding n that gives minimal test error\n",
    "    min_err = np.amin(min_error_tes)\n",
    "    print(min_err)\n",
    "    minimal_n = np.where(min_error_tes == np.amin(min_error_tes))\n",
    "    #print(minimal_n)\n",
    "    print(\"The value of n that has the minimal Test Error is \"+str(minimal_n[0][0]))\n",
    "    "
   ]
  },
  {
   "cell_type": "markdown",
   "metadata": {},
   "source": [
    "Part (i), (ii) and (iii)"
   ]
  },
  {
   "cell_type": "code",
   "execution_count": 4,
   "metadata": {},
   "outputs": [
    {
     "name": "stdout",
     "output_type": "stream",
     "text": [
      "0.021664105537408974\n",
      "The value of n that has the minimal Test Error is 4\n"
     ]
    },
    {
     "data": {
      "image/png": "[encoded data removed]",
      "text/plain": [
       "<Figure size 432x288 with 2 Axes>"
      ]
     },
     "metadata": {
      "needs_background": "light"
     },
     "output_type": "display_data"
    }
   ],
   "source": [
    "m = 10\n",
    "t = 100\n",
    "n = 10\n",
    "best_fit_polyreg(m,t,n)"
   ]
  },
  {
   "cell_type": "markdown",
   "metadata": {},
   "source": [
    "Part (iv)"
   ]
  },
  {
   "cell_type": "code",
   "execution_count": 6,
   "metadata": {},
   "outputs": [
    {
     "name": "stdout",
     "output_type": "stream",
     "text": [
      "0.011145036426699416\n",
      "The value of n that has the minimal Test Error is 5\n"
     ]
    },
    {
     "data": {
      "image/png": "[encoded data removed]",
      "text/plain": [
       "<Figure size 432x288 with 2 Axes>"
      ]
     },
     "metadata": {
      "needs_background": "light"
     },
     "output_type": "display_data"
    }
   ],
   "source": [
    "m = 20\n",
    "t = 100\n",
    "n = 10\n",
    "best_fit_polyreg(m,t,n)"
   ]
  },
  {
   "cell_type": "markdown",
   "metadata": {},
   "source": [
    "###### Q2) L2 Regularization Ridge Regression"
   ]
  },
  {
   "cell_type": "code",
   "execution_count": 10,
   "metadata": {},
   "outputs": [],
   "source": [
    "def ridge_reg(m,t,n):\n",
    "    \n",
    "    #m --> Number of training samples\n",
    "    #t --> Numbver of testing samples\n",
    "    #n --> Max Degree of polynomial\n",
    "    np.random.seed(100)\n",
    "    sd = math.sqrt(0.01)\n",
    "    \n",
    "    #Generate Training Data\n",
    "    x_tr = np.random.uniform(0,1,size=(m,1)) #Generate Xi Train\n",
    "    w_tr = np.random.normal(0,sd,size=(m,1))  #Generate noise Train\n",
    "    y_tr = []   #Calculate Yi Train\n",
    "\n",
    "    for i,j in zip(x_tr,w_tr):\n",
    "        hTrue_x = math.cos(2*np.pi*i)\n",
    "        y_tr.append(hTrue_x + j)\n",
    "    y1 = np.array(y_tr)    \n",
    "   \n",
    "    x_train = np.zeros((m,n+1))\n",
    "    for i in range(n+1):\n",
    "        x_train[:,i] = np.power(x_tr,i).reshape((m,))\n",
    "    x_train_t = x_train.transpose()\n",
    "\n",
    "    #Generate Testing data\n",
    "    x_tes = np.random.uniform(0,1,size=(t,1)) #Generate Xi Test\n",
    "    w_tes = np.random.normal(0,sd,size=(t,1))  #Generate noise Test\n",
    "    y_tes = []   #Calculate Yi Test\n",
    "    \n",
    "    for i,j in zip(x_tes,w_tes):\n",
    "        hTrue_x = math.cos(2*(np.pi)*i)\n",
    "        y_tes.append(hTrue_x + j)        \n",
    "    y2 = np.array(y_tes)    \n",
    "\n",
    "    x_test = np.zeros((t,n+1)) \n",
    "    for i in range(n+1):\n",
    "        x_test[:,i] = np.power(x_tes,i).reshape((t,))\n",
    "    x_test_t = x_test.transpose()\n",
    "    \n",
    "    \n",
    "    lambda_r = np.array([0.05,0.1,0.2,0.5, 1,20, 50, 200, 500, 700, 1000])\n",
    "    \n",
    "    min_error_tr=[]\n",
    "    min_error_tes = []\n",
    "    coeff = []\n",
    "    \n",
    "    for i in lambda_r:\n",
    "        \n",
    "        A = np.matmul(x_train_t, x_train) + (i*np.eye(n+1))\n",
    "        inv_A = np.linalg.inv(A)\n",
    "        B = np.matmul(x_train_t,y1)\n",
    "        w = np.matmul(inv_A, B)\n",
    "        coeff.append(w)\n",
    "        \n",
    "        w_norm = np.linalg.norm(w,ord = 2)\n",
    "        T2 = i*np.square(w_norm)\n",
    "        \n",
    "        y_tr_pred = np.matmul(x_train,w)\n",
    "        y_pred = np.matmul(x_test,w)\n",
    "       \n",
    "        f = np.sum(np.square(y1 - y_tr_pred))/m\n",
    "        min_error_tr.append(f)\n",
    "          \n",
    "        k = np.sum(np.square(y2 - y_pred))/t\n",
    "        min_error_tes.append(k)     \n",
    "        \n",
    "    #print(min_error_tr)\n",
    "    #print(min_error_tes)\n",
    "    \n",
    "    #Plotting\n",
    "    plt.figure()\n",
    "    plt.subplot(211)\n",
    "    plt.plot(np.log10(lambda_r), min_error_tr, '-o')\n",
    "    plt.xlabel('log λ')\n",
    "    plt.ylabel('Training Error')\n",
    "\n",
    "    plt.subplot(212)\n",
    "    plt.plot(np.log10(lambda_r), min_error_tes, '-o')\n",
    "    plt.xlabel('log λ')\n",
    "    plt.ylabel('Test Error')\n",
    "    \n",
    "    #Finding λ that has minimal test error and the corresponding polynomial\n",
    "    min_err = np.amin(min_error_tes)\n",
    "    print(min_err)\n",
    "    minimal_n = np.where(min_error_tes == np.amin(min_error_tes))\n",
    "    lam = minimal_n[0][0]\n",
    "    #print(minimal_n)\n",
    "    print(\"The value of λ that has the minimal Test Error is \"+str(lambda_r[lam]))\n",
    "    print(\"The corresponding polynomial coefficients are: \")\n",
    "    print(coeff[lam])\n",
    "        \n",
    "    "
   ]
  },
  {
   "cell_type": "markdown",
   "metadata": {},
   "source": [
    "Part (i), (ii) and (iii)"
   ]
  },
  {
   "cell_type": "code",
   "execution_count": 11,
   "metadata": {},
   "outputs": [
    {
     "name": "stdout",
     "output_type": "stream",
     "text": [
      "0.25086757170424645\n",
      "The value of λ that has the minimal Test Error is 0.5\n",
      "The corresponding polynomial coefficients are: \n",
      "[[ 0.25706671]\n",
      " [-0.93537073]\n",
      " [-0.22090341]\n",
      " [ 0.17561252]\n",
      " [ 0.34351516]\n",
      " [ 0.39317949]\n",
      " [ 0.386632  ]\n",
      " [ 0.35550093]\n",
      " [ 0.31553936]\n",
      " [ 0.27442212]\n",
      " [ 0.23570809]]\n"
     ]
    },
    {
     "data": {
      "image/png": "[encoded data removed]",
      "text/plain": [
       "<Figure size 432x288 with 2 Axes>"
      ]
     },
     "metadata": {
      "needs_background": "light"
     },
     "output_type": "display_data"
    }
   ],
   "source": [
    "ridge_reg(10,100,10)"
   ]
  },
  {
   "cell_type": "markdown",
   "metadata": {},
   "source": [
    "Part (iv)"
   ]
  },
  {
   "cell_type": "code",
   "execution_count": 12,
   "metadata": {},
   "outputs": [
    {
     "name": "stdout",
     "output_type": "stream",
     "text": [
      "0.09805518860874765\n",
      "The value of λ that has the minimal Test Error is 0.05\n",
      "The corresponding polynomial coefficients are: \n",
      "[[ 0.89325365]\n",
      " [-3.38192337]\n",
      " [-0.09689683]\n",
      " [ 1.49518822]\n",
      " [ 1.79069691]\n",
      " [ 1.47487037]\n",
      " [ 0.92851232]\n",
      " [ 0.33380946]\n",
      " [-0.22835403]\n",
      " [-0.72622487]\n",
      " [-1.15134374]]\n"
     ]
    },
    {
     "data": {
      "image/png": "[encoded data removed]",
      "text/plain": [
       "<Figure size 432x288 with 2 Axes>"
      ]
     },
     "metadata": {
      "needs_background": "light"
     },
     "output_type": "display_data"
    }
   ],
   "source": [
    "ridge_reg(20,100,10)"
   ]
  },
  {
   "cell_type": "code",
   "execution_count": null,
   "metadata": {},
   "outputs": [],
   "source": []
  },
  {
   "cell_type": "code",
   "execution_count": null,
   "metadata": {},
   "outputs": [],
   "source": []
  }
 ],
 "metadata": {
  "kernelspec": {
   "display_name": "Python 3",
   "language": "python",
   "name": "python3"
  },
  "language_info": {
   "codemirror_mode": {
    "name": "ipython",
    "version": 3
   },
   "file_extension": ".py",
   "mimetype": "text/x-python",
   "name": "python",
   "nbconvert_exporter": "python",
   "pygments_lexer": "ipython3",
   "version": "3.7.4"
  }
 },
 "nbformat": 4,
 "nbformat_minor": 2
}
